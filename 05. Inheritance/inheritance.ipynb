{
 "cells": [
  {
   "cell_type": "code",
   "execution_count": 1,
   "id": "45046a56",
   "metadata": {},
   "outputs": [],
   "source": [
    "class Person:\n",
    "\n",
    "    def __init__(self, name, age):\n",
    "        self.name: name\n",
    "        self.age: age\n",
    "\n",
    "    def intro(self):\n",
    "        print(f\"My name is {self.name}\")"
   ]
  },
  {
   "cell_type": "code",
   "execution_count": 2,
   "id": "6af8149c",
   "metadata": {},
   "outputs": [],
   "source": [
    "import pandas as pd"
   ]
  },
  {
   "cell_type": "code",
   "execution_count": 4,
   "id": "c40df332",
   "metadata": {},
   "outputs": [],
   "source": [
    "class Dataloader:\n",
    "\n",
    "    def __init__(self, path: str):\n",
    "        self.path = path\n",
    "        self.data = None\n",
    "\n",
    "    def load_data(self) -> pd.DataFrame:\n",
    "        self.data = pd.read_csv(self.path, keep_default_na=False, na_values=[\"\", \"NA\"])\n",
    "        print(f\"File loaded from :{self.path}\")\n",
    "        return self.data"
   ]
  },
  {
   "cell_type": "code",
   "execution_count": null,
   "id": "0af9e4bc",
   "metadata": {},
   "outputs": [],
   "source": [
    "class Datacleaner(Dataloader):\n",
    "\n",
    "    def separate_cat_con(self):\n",
    "        cat = list(self.data.columns[self.data.dtypes == \"object\"])\n",
    "        con = list(self.data.columns[self.data.dtypes != \"object\"])\n",
    "        return {\"cat\": cat, \"con\": con}\n",
    "\n",
    "    def clean_data(self) -> pd.DataFrame:\n",
    "        if self.data is not None:\n",
    "            cat = list(self.data.columns[self.data.dtypes == \"object\"])\n",
    "\n",
    "            for col in self.data.columns:\n",
    "                if col in cat:\n",
    "                    mode = self.data[col].mode()[0]\n",
    "                    self.data[col] = self.data[col].fillna(mode)\n",
    "                else:\n",
    "                    median = self.data[col].median()\n",
    "                    self.data[col] = self.data[col].fillna(median)"
   ]
  },
  {
   "cell_type": "code",
   "execution_count": null,
   "id": "97454f09",
   "metadata": {},
   "outputs": [],
   "source": []
  }
 ],
 "metadata": {
  "kernelspec": {
   "display_name": "venv",
   "language": "python",
   "name": "python3"
  },
  "language_info": {
   "codemirror_mode": {
    "name": "ipython",
    "version": 3
   },
   "file_extension": ".py",
   "mimetype": "text/x-python",
   "name": "python",
   "nbconvert_exporter": "python",
   "pygments_lexer": "ipython3",
   "version": "3.13.3"
  }
 },
 "nbformat": 4,
 "nbformat_minor": 5
}
