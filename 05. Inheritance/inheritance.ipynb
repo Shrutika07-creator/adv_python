{
 "cells": [
  {
   "cell_type": "code",
   "execution_count": 77,
   "id": "45046a56",
   "metadata": {},
   "outputs": [],
   "source": [
    "class Person:\n",
    "\n",
    "    def __init__(self, name, age):\n",
    "        self.name: name\n",
    "        self.age: age\n",
    "\n",
    "    def intro(self):\n",
    "        print(f\"My name is {self.name}\")"
   ]
  },
  {
   "cell_type": "code",
   "execution_count": 78,
   "id": "6af8149c",
   "metadata": {},
   "outputs": [],
   "source": [
    "import pandas as pd"
   ]
  },
  {
   "cell_type": "code",
   "execution_count": 79,
   "id": "c40df332",
   "metadata": {},
   "outputs": [],
   "source": [
    "class Dataloader:\n",
    "\n",
    "    def __init__(self, path: str):\n",
    "        self.path = path\n",
    "        self.data = None\n",
    "\n",
    "    def load_data(self) -> pd.DataFrame:\n",
    "        self.data = pd.read_csv(self.path, keep_default_na=False, na_values=[\"\", \"NA\"])\n",
    "        print(f\"File loaded from :{self.path}\")\n",
    "        return self.data"
   ]
  },
  {
   "cell_type": "code",
   "execution_count": 80,
   "id": "0af9e4bc",
   "metadata": {},
   "outputs": [],
   "source": [
    "class Datacleaner(Dataloader):\n",
    "\n",
    "    def separate_cat_con(self):\n",
    "        cat = list(self.data.columns[self.data.dtypes == \"object\"])\n",
    "        con = list(self.data.columns[self.data.dtypes != \"object\"])\n",
    "        return {\"cat\": cat, \"con\": con}\n",
    "\n",
    "    def clean_data(self) -> pd.DataFrame:\n",
    "        if self.data is not None:\n",
    "            cat = list(self.data.columns[self.data.dtypes == \"object\"])\n",
    "\n",
    "            for col in self.data.columns:\n",
    "                if col in cat:\n",
    "                    mode = self.data[col].mode()[0]\n",
    "                    self.data[col] = self.data[col].fillna(mode)\n",
    "                else:\n",
    "                    median = self.data[col].median()\n",
    "                    self.data[col] = self.data[col].fillna(median)\n",
    "\n",
    "                print(\"Data cleaning done\")\n",
    "\n",
    "            else:\n",
    "                print(\"Data not loaded\")\n",
    "            return self.data"
   ]
  },
  {
   "cell_type": "code",
   "execution_count": 81,
   "id": "97454f09",
   "metadata": {},
   "outputs": [],
   "source": [
    "class Dataanalyzer(Datacleaner):\n",
    "\n",
    "    def describedata(self):\n",
    "        if self.data is not None:\n",
    "            n = self.data.describe(exclude=\"object\").T\n",
    "            c = self.data.describe(include=\"object\").T\n",
    "            print(f\"Numeric: {n}\")\n",
    "            print(f\"\\nCatrgorical: {c}\")\n",
    "        else:\n",
    "            print(\"Data not loaded\")\n",
    "\n",
    "    def gruoupby(self, col1: str, col2: str, agg: str):\n",
    "        if self.data is not None:\n",
    "            grouped_data = (\n",
    "                self.data.groupby(by=col1)\n",
    "                .agg({col2: str})\n",
    "                .sort_values(by=\"col2\", ascending=False)\n",
    "                .round(2)\n",
    "            )\n",
    "            g.plot(kind=\"bar\", figsize=(10, 4))\n",
    "        else:\n",
    "            print(\"Data not loaded\")"
   ]
  },
  {
   "cell_type": "code",
   "execution_count": 82,
   "id": "022ef230",
   "metadata": {},
   "outputs": [
    {
     "data": {
      "text/plain": [
       "__main__.Dataanalyzer"
      ]
     },
     "execution_count": 82,
     "metadata": {},
     "output_type": "execute_result"
    }
   ],
   "source": [
    "dataaa = Dataanalyzer(path=\"Cars93.csv\")\n",
    "type(dataaa)"
   ]
  },
  {
   "cell_type": "code",
   "execution_count": 83,
   "id": "179e74d1",
   "metadata": {},
   "outputs": [
    {
     "name": "stdout",
     "output_type": "stream",
     "text": [
      "<__main__.Dataanalyzer object at 0x000001AA94167A10>\n"
     ]
    }
   ],
   "source": [
    "print(dataaa)"
   ]
  },
  {
   "cell_type": "code",
   "execution_count": 84,
   "id": "656840b8",
   "metadata": {},
   "outputs": [],
   "source": [
    "class Family:\n",
    "\n",
    "    def __init__(self, name: str, age: int, marks: int | float):\n",
    "        self.name = name\n",
    "        self.age = age\n",
    "        self.marks = marks\n",
    "\n",
    "    def intro(self):\n",
    "        print(\n",
    "            f\"My name is {self.name} and I am {self.age} yrs old, also I have scored {self.marks}%\"\n",
    "        )"
   ]
  },
  {
   "cell_type": "code",
   "execution_count": 85,
   "id": "b54a4752",
   "metadata": {},
   "outputs": [],
   "source": [
    "class Employement(Family):\n",
    "\n",
    "    def __init__(self, name, age, marks, company):\n",
    "        super().__init__(name, age, marks)\n",
    "        self.company = company\n",
    "\n",
    "    def work(self):\n",
    "        print(f\"I am working in {self.company} from 2 years\")"
   ]
  },
  {
   "cell_type": "code",
   "execution_count": 86,
   "id": "af2b510c",
   "metadata": {},
   "outputs": [],
   "source": [
    "s = Family(name=\"Shruti\", age=24, marks=90)"
   ]
  },
  {
   "cell_type": "code",
   "execution_count": 87,
   "id": "91b6d838",
   "metadata": {},
   "outputs": [
    {
     "name": "stdout",
     "output_type": "stream",
     "text": [
      "My name is Shruti and I am 24 yrs old, also I have scored 90%\n"
     ]
    }
   ],
   "source": [
    "s.intro()"
   ]
  },
  {
   "cell_type": "code",
   "execution_count": 88,
   "id": "15b37aee",
   "metadata": {},
   "outputs": [
    {
     "data": {
      "text/plain": [
       "'Shruti'"
      ]
     },
     "execution_count": 88,
     "metadata": {},
     "output_type": "execute_result"
    }
   ],
   "source": [
    "s.name"
   ]
  },
  {
   "cell_type": "code",
   "execution_count": 89,
   "id": "f57dc7f8",
   "metadata": {},
   "outputs": [],
   "source": [
    "s1 = Employement(\"Shrutika\", 25, 86, \"WNS\")"
   ]
  },
  {
   "cell_type": "code",
   "execution_count": 90,
   "id": "0f3a1939",
   "metadata": {},
   "outputs": [
    {
     "name": "stdout",
     "output_type": "stream",
     "text": [
      "I am working in WNS from 2 years\n"
     ]
    }
   ],
   "source": [
    "s1.work()"
   ]
  },
  {
   "cell_type": "code",
   "execution_count": 91,
   "id": "5c3352a4",
   "metadata": {},
   "outputs": [
    {
     "name": "stdout",
     "output_type": "stream",
     "text": [
      "My name is Shrutika and I am 25 yrs old, also I have scored 86%\n"
     ]
    }
   ],
   "source": [
    "s1.intro()"
   ]
  },
  {
   "cell_type": "code",
   "execution_count": 92,
   "id": "a546d898",
   "metadata": {},
   "outputs": [
    {
     "name": "stdout",
     "output_type": "stream",
     "text": [
      "Requirement already satisfied: pydantic in c:\\users\\lenovo\\documents\\1. python\\6. adv python\\venv\\lib\\site-packages (2.11.3)\n",
      "Requirement already satisfied: email-validator in c:\\users\\lenovo\\documents\\1. python\\6. adv python\\venv\\lib\\site-packages (2.2.0)\n",
      "Requirement already satisfied: annotated-types>=0.6.0 in c:\\users\\lenovo\\documents\\1. python\\6. adv python\\venv\\lib\\site-packages (from pydantic) (0.7.0)\n",
      "Requirement already satisfied: pydantic-core==2.33.1 in c:\\users\\lenovo\\documents\\1. python\\6. adv python\\venv\\lib\\site-packages (from pydantic) (2.33.1)\n",
      "Requirement already satisfied: typing-extensions>=4.12.2 in c:\\users\\lenovo\\documents\\1. python\\6. adv python\\venv\\lib\\site-packages (from pydantic) (4.13.0)\n",
      "Requirement already satisfied: typing-inspection>=0.4.0 in c:\\users\\lenovo\\documents\\1. python\\6. adv python\\venv\\lib\\site-packages (from pydantic) (0.4.0)\n",
      "Requirement already satisfied: dnspython>=2.0.0 in c:\\users\\lenovo\\documents\\1. python\\6. adv python\\venv\\lib\\site-packages (from email-validator) (2.7.0)\n",
      "Requirement already satisfied: idna>=2.0.0 in c:\\users\\lenovo\\documents\\1. python\\6. adv python\\venv\\lib\\site-packages (from email-validator) (3.10)\n",
      "Note: you may need to restart the kernel to use updated packages.\n"
     ]
    }
   ],
   "source": [
    "%pip install pydantic email-validator"
   ]
  },
  {
   "cell_type": "code",
   "execution_count": 93,
   "id": "1784b7b1",
   "metadata": {},
   "outputs": [],
   "source": [
    "from pydantic import BaseModel, EmailStr, Field\n",
    "from typing import Literal"
   ]
  },
  {
   "cell_type": "code",
   "execution_count": 94,
   "id": "cfc85e6a",
   "metadata": {},
   "outputs": [],
   "source": [
    "class Student(BaseModel):\n",
    "    roll_no: int = Field(description=\"Student roll no\", gt=100)\n",
    "    name: str = Field(description=\"Nmae of the student\", min_length=0, max_length=50)\n",
    "    age: int = Field(desciption=\"Age of the student\", ge=18)\n",
    "    gender: Literal[\"male\", \"female\"] = Field(description=\"Gender of the student\")\n",
    "    email: EmailStr = Field(desciption=\"Email of the Student\")\n",
    "\n",
    "    def get_info(self):\n",
    "        print(f\"Roll no: {self.roll_no}\")\n",
    "        print(f\"Name: {self.name}\")\n",
    "        print(f\"Age: {self.age}\")\n",
    "        print(f\"Gender: {self.gender}\")\n",
    "        print(f\"Email : {self.email}\")"
   ]
  },
  {
   "cell_type": "code",
   "execution_count": 95,
   "id": "5a253528",
   "metadata": {},
   "outputs": [],
   "source": [
    "s = Student(\n",
    "    roll_no=301, name=\"Jadhav\", age=26, gender=\"female\", email=\"jadhav@test.com\"\n",
    ")"
   ]
  },
  {
   "cell_type": "code",
   "execution_count": 96,
   "id": "9987533b",
   "metadata": {},
   "outputs": [
    {
     "data": {
      "text/plain": [
       "301"
      ]
     },
     "execution_count": 96,
     "metadata": {},
     "output_type": "execute_result"
    }
   ],
   "source": [
    "s.roll_no"
   ]
  },
  {
   "cell_type": "code",
   "execution_count": 97,
   "id": "c99cc0a8",
   "metadata": {},
   "outputs": [
    {
     "name": "stdout",
     "output_type": "stream",
     "text": [
      "Roll no: 301\n",
      "Name: Jadhav\n",
      "Age: 26\n",
      "Gender: female\n",
      "Email : jadhav@test.com\n"
     ]
    }
   ],
   "source": [
    "s.get_info()"
   ]
  },
  {
   "cell_type": "code",
   "execution_count": 98,
   "id": "ca829d61",
   "metadata": {},
   "outputs": [],
   "source": [
    "class Basesalary:\n",
    "\n",
    "    def __init__(self, base_sal: float):\n",
    "        self.base_sal = base_sal\n",
    "\n",
    "    def get_sal_info(self):\n",
    "        print(f\"The basic salary for me is {self.base_sal:.2f} INR\")"
   ]
  },
  {
   "cell_type": "code",
   "execution_count": 99,
   "id": "e1ef8c8e",
   "metadata": {},
   "outputs": [],
   "source": [
    "class Bonus:\n",
    "\n",
    "    def __init__(self, per_bonus):\n",
    "        self.per_bonus = per_bonus\n",
    "\n",
    "    def get_per_bonus(self, base_sal):\n",
    "        return (self.per_bonus / 100) * base_sal"
   ]
  },
  {
   "cell_type": "code",
   "execution_count": 100,
   "id": "f5522d76",
   "metadata": {},
   "outputs": [],
   "source": [
    "class Tax:\n",
    "\n",
    "    def __init__(self, tax_rate: float):\n",
    "        self.tax_rate = tax_rate\n",
    "\n",
    "    def claculate_tax(self, base_sal):\n",
    "        return (self.tax_rate / 100) * base_sal"
   ]
  },
  {
   "cell_type": "code",
   "execution_count": 101,
   "id": "570edcb9",
   "metadata": {},
   "outputs": [],
   "source": [
    "class Total_Salary(Basesalary, Bonus, Tax):\n",
    "\n",
    "    def __init__(self, base_sal: float, per_bonus: float, tax_rate: float):\n",
    "        Basesalary.__init__(self, base_sal)\n",
    "        Bonus.__init__(self, per_bonus)\n",
    "        Tax.__init__(self.tax_rate)\n",
    "\n",
    "    def get_total_salary(self):\n",
    "        bonus = self.get_per_bonus(self.base_sal)\n",
    "        tax = self.calculate_tax(self.base_sal)\n",
    "        return self.base_sal + bonus - tax"
   ]
  },
  {
   "cell_type": "code",
   "execution_count": null,
   "id": "0e9e3891",
   "metadata": {},
   "outputs": [],
   "source": []
  },
  {
   "cell_type": "code",
   "execution_count": null,
   "id": "99d6a8ea",
   "metadata": {},
   "outputs": [],
   "source": []
  }
 ],
 "metadata": {
  "kernelspec": {
   "display_name": "venv",
   "language": "python",
   "name": "python3"
  },
  "language_info": {
   "codemirror_mode": {
    "name": "ipython",
    "version": 3
   },
   "file_extension": ".py",
   "mimetype": "text/x-python",
   "name": "python",
   "nbconvert_exporter": "python",
   "pygments_lexer": "ipython3",
   "version": "3.13.3"
  }
 },
 "nbformat": 4,
 "nbformat_minor": 5
}
