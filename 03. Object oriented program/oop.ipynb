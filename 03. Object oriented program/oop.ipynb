{
 "cells": [
  {
   "cell_type": "markdown",
   "id": "192250d4",
   "metadata": {},
   "source": [
    "# Object oriented program"
   ]
  },
  {
   "cell_type": "code",
   "execution_count": 1,
   "id": "86e5c200",
   "metadata": {},
   "outputs": [
    {
     "data": {
      "text/plain": [
       "int"
      ]
     },
     "execution_count": 1,
     "metadata": {},
     "output_type": "execute_result"
    }
   ],
   "source": [
    "a = 4\n",
    "type(a)"
   ]
  },
  {
   "cell_type": "code",
   "execution_count": 2,
   "id": "206c396c",
   "metadata": {},
   "outputs": [
    {
     "data": {
      "text/plain": [
       "dict"
      ]
     },
     "execution_count": 2,
     "metadata": {},
     "output_type": "execute_result"
    }
   ],
   "source": [
    "b = {\n",
    "    \"name\": [\"Shreya\", \"Sachin\", \"Krishna\", \"Shrisha\"],\n",
    "    \"age\": [28, 35, 5, 1],\n",
    "    \"id\": [2, 4, 6, 10],\n",
    "}\n",
    "type(b)"
   ]
  },
  {
   "cell_type": "code",
   "execution_count": 3,
   "id": "4cad1f9f",
   "metadata": {},
   "outputs": [],
   "source": [
    "import pandas as pd"
   ]
  },
  {
   "cell_type": "code",
   "execution_count": 4,
   "id": "76d39e08",
   "metadata": {},
   "outputs": [
    {
     "data": {
      "text/html": [
       "<div>\n",
       "<style scoped>\n",
       "    .dataframe tbody tr th:only-of-type {\n",
       "        vertical-align: middle;\n",
       "    }\n",
       "\n",
       "    .dataframe tbody tr th {\n",
       "        vertical-align: top;\n",
       "    }\n",
       "\n",
       "    .dataframe thead th {\n",
       "        text-align: right;\n",
       "    }\n",
       "</style>\n",
       "<table border=\"1\" class=\"dataframe\">\n",
       "  <thead>\n",
       "    <tr style=\"text-align: right;\">\n",
       "      <th></th>\n",
       "      <th>name</th>\n",
       "      <th>age</th>\n",
       "      <th>id</th>\n",
       "    </tr>\n",
       "  </thead>\n",
       "  <tbody>\n",
       "    <tr>\n",
       "      <th>0</th>\n",
       "      <td>Shreya</td>\n",
       "      <td>28</td>\n",
       "      <td>2</td>\n",
       "    </tr>\n",
       "    <tr>\n",
       "      <th>1</th>\n",
       "      <td>Sachin</td>\n",
       "      <td>35</td>\n",
       "      <td>4</td>\n",
       "    </tr>\n",
       "    <tr>\n",
       "      <th>2</th>\n",
       "      <td>Krishna</td>\n",
       "      <td>5</td>\n",
       "      <td>6</td>\n",
       "    </tr>\n",
       "    <tr>\n",
       "      <th>3</th>\n",
       "      <td>Shrisha</td>\n",
       "      <td>1</td>\n",
       "      <td>10</td>\n",
       "    </tr>\n",
       "  </tbody>\n",
       "</table>\n",
       "</div>"
      ],
      "text/plain": [
       "      name  age  id\n",
       "0   Shreya   28   2\n",
       "1   Sachin   35   4\n",
       "2  Krishna    5   6\n",
       "3  Shrisha    1  10"
      ]
     },
     "execution_count": 4,
     "metadata": {},
     "output_type": "execute_result"
    }
   ],
   "source": [
    "df = pd.DataFrame(b)\n",
    "df"
   ]
  },
  {
   "cell_type": "code",
   "execution_count": 5,
   "id": "cc6b9bfe",
   "metadata": {},
   "outputs": [
    {
     "name": "stdout",
     "output_type": "stream",
     "text": [
      "<class 'pandas.core.frame.DataFrame'>\n"
     ]
    }
   ],
   "source": [
    "print(type(df))"
   ]
  },
  {
   "cell_type": "code",
   "execution_count": 6,
   "id": "ea08942f",
   "metadata": {},
   "outputs": [
    {
     "data": {
      "text/html": [
       "<div>\n",
       "<style scoped>\n",
       "    .dataframe tbody tr th:only-of-type {\n",
       "        vertical-align: middle;\n",
       "    }\n",
       "\n",
       "    .dataframe tbody tr th {\n",
       "        vertical-align: top;\n",
       "    }\n",
       "\n",
       "    .dataframe thead th {\n",
       "        text-align: right;\n",
       "    }\n",
       "</style>\n",
       "<table border=\"1\" class=\"dataframe\">\n",
       "  <thead>\n",
       "    <tr style=\"text-align: right;\">\n",
       "      <th></th>\n",
       "      <th>count</th>\n",
       "      <th>mean</th>\n",
       "      <th>std</th>\n",
       "      <th>min</th>\n",
       "      <th>25%</th>\n",
       "      <th>50%</th>\n",
       "      <th>75%</th>\n",
       "      <th>max</th>\n",
       "    </tr>\n",
       "  </thead>\n",
       "  <tbody>\n",
       "    <tr>\n",
       "      <th>age</th>\n",
       "      <td>4.0</td>\n",
       "      <td>17.25</td>\n",
       "      <td>16.780445</td>\n",
       "      <td>1.0</td>\n",
       "      <td>4.0</td>\n",
       "      <td>16.5</td>\n",
       "      <td>29.75</td>\n",
       "      <td>35.0</td>\n",
       "    </tr>\n",
       "    <tr>\n",
       "      <th>id</th>\n",
       "      <td>4.0</td>\n",
       "      <td>5.50</td>\n",
       "      <td>3.415650</td>\n",
       "      <td>2.0</td>\n",
       "      <td>3.5</td>\n",
       "      <td>5.0</td>\n",
       "      <td>7.00</td>\n",
       "      <td>10.0</td>\n",
       "    </tr>\n",
       "  </tbody>\n",
       "</table>\n",
       "</div>"
      ],
      "text/plain": [
       "     count   mean        std  min  25%   50%    75%   max\n",
       "age    4.0  17.25  16.780445  1.0  4.0  16.5  29.75  35.0\n",
       "id     4.0   5.50   3.415650  2.0  3.5   5.0   7.00  10.0"
      ]
     },
     "execution_count": 6,
     "metadata": {},
     "output_type": "execute_result"
    }
   ],
   "source": [
    "df.describe().T"
   ]
  },
  {
   "cell_type": "code",
   "execution_count": 7,
   "id": "5778e097",
   "metadata": {},
   "outputs": [],
   "source": [
    "class Family:\n",
    "\n",
    "    def __init__(self, name, std, roll_no):\n",
    "        self.name = name\n",
    "        self.std = std\n",
    "        self.roll_no = roll_no\n",
    "\n",
    "    def intro(self):\n",
    "        print(f\"My name is {self.name}\")\n",
    "        print(f\"I am in std {self.std}\")\n",
    "        print(f\"My roll no is: {self.roll_no}\")"
   ]
  },
  {
   "cell_type": "code",
   "execution_count": 8,
   "id": "4a527aee",
   "metadata": {},
   "outputs": [
    {
     "data": {
      "text/plain": [
       "<__main__.Family at 0x2395e188ec0>"
      ]
     },
     "execution_count": 8,
     "metadata": {},
     "output_type": "execute_result"
    }
   ],
   "source": [
    "s = Family(name=\"Rishi\", std=5, roll_no=101)\n",
    "s"
   ]
  },
  {
   "cell_type": "code",
   "execution_count": 9,
   "id": "71c36bf8",
   "metadata": {},
   "outputs": [
    {
     "name": "stdout",
     "output_type": "stream",
     "text": [
      "My name is Rishi\n",
      "I am in std 5\n",
      "My roll no is: 101\n"
     ]
    }
   ],
   "source": [
    "s.intro()"
   ]
  },
  {
   "cell_type": "code",
   "execution_count": 10,
   "id": "599b670e",
   "metadata": {},
   "outputs": [
    {
     "data": {
      "text/plain": [
       "<__main__.Family at 0x2395e1f5810>"
      ]
     },
     "execution_count": 10,
     "metadata": {},
     "output_type": "execute_result"
    }
   ],
   "source": [
    "j = Family(name=\"Shruti\", std=9, roll_no=202920)\n",
    "j"
   ]
  },
  {
   "cell_type": "code",
   "execution_count": 11,
   "id": "f4009121",
   "metadata": {},
   "outputs": [
    {
     "name": "stdout",
     "output_type": "stream",
     "text": [
      "My name is Shruti\n",
      "I am in std 9\n",
      "My roll no is: 202920\n"
     ]
    }
   ],
   "source": [
    "j.intro()"
   ]
  },
  {
   "cell_type": "code",
   "execution_count": 12,
   "id": "e282663b",
   "metadata": {},
   "outputs": [
    {
     "data": {
      "text/plain": [
       "'Shruti'"
      ]
     },
     "execution_count": 12,
     "metadata": {},
     "output_type": "execute_result"
    }
   ],
   "source": [
    "j.name"
   ]
  },
  {
   "cell_type": "code",
   "execution_count": 13,
   "id": "34ed69a5",
   "metadata": {},
   "outputs": [],
   "source": [
    "from dataclasses import dataclass\n",
    "from typing import Literal"
   ]
  },
  {
   "cell_type": "code",
   "execution_count": 14,
   "id": "a5063cf3",
   "metadata": {},
   "outputs": [],
   "source": [
    "@dataclass\n",
    "class Person:\n",
    "    name: str\n",
    "    std: int\n",
    "    roll_no: int\n",
    "    gender: Literal[\"male\", \"female\"]\n",
    "\n",
    "    def tak(self):\n",
    "        print(f\"My name is {self.name}\")\n",
    "        print(f\"I am in std {self.std}\")\n",
    "        print(f\"My roll no is: {self.roll_no}\")\n",
    "        print(f\"I am a {self.gender}\")"
   ]
  },
  {
   "cell_type": "code",
   "execution_count": 15,
   "id": "8911a31f",
   "metadata": {},
   "outputs": [
    {
     "data": {
      "text/plain": [
       "Person(name=1220, std=2, roll_no=25, gender='male')"
      ]
     },
     "execution_count": 15,
     "metadata": {},
     "output_type": "execute_result"
    }
   ],
   "source": [
    "p = Person(name=1220, std=2, roll_no=25, gender=\"male\")\n",
    "p"
   ]
  },
  {
   "cell_type": "code",
   "execution_count": 16,
   "id": "357fed77",
   "metadata": {},
   "outputs": [
    {
     "name": "stdout",
     "output_type": "stream",
     "text": [
      "My name is 1220\n",
      "I am in std 2\n",
      "My roll no is: 25\n",
      "I am a male\n"
     ]
    }
   ],
   "source": [
    "p.tak()"
   ]
  },
  {
   "cell_type": "markdown",
   "id": "61ea33ab",
   "metadata": {},
   "source": [
    "# Banking problem"
   ]
  },
  {
   "cell_type": "code",
   "execution_count": 17,
   "id": "bf021ddb",
   "metadata": {},
   "outputs": [],
   "source": [
    "@dataclass\n",
    "class bank_account:\n",
    "    ac: int\n",
    "    name: str\n",
    "    balance: float = 0.0\n",
    "\n",
    "    def checkbalance(self):\n",
    "        print(\n",
    "            f\"The current balance for account number : {self.ac} is {self.balance: .2f} INR\"\n",
    "        )\n",
    "\n",
    "    def deposit(self, amount: float):\n",
    "        if amount <= 0:\n",
    "            raise ValueError(f\"The deposit value cannot be negative\")\n",
    "        self.balance = +amount\n",
    "\n",
    "    def withdrwal(self, amount: float):\n",
    "        if amount <= 0:\n",
    "            raise ValueError(f\"The withdrawl amount cannot be negative\")\n",
    "        if amount > self.balance:\n",
    "            raise ValueError(f\"The withdrawl amount is insufficient\")\n",
    "        self.balance -= amount\n",
    "\n",
    "    def transfer(self, amount: float, ac2: \"bank_account\"):\n",
    "        ac2.deposit(amount)\n",
    "        self.withdrwal(amount)"
   ]
  },
  {
   "cell_type": "code",
   "execution_count": 18,
   "id": "376b083b",
   "metadata": {},
   "outputs": [],
   "source": [
    "j = bank_account(ac=25832, name=\"Shrutika Jadhav\", balance=5000)"
   ]
  },
  {
   "cell_type": "code",
   "execution_count": 19,
   "id": "d0633874",
   "metadata": {},
   "outputs": [
    {
     "name": "stdout",
     "output_type": "stream",
     "text": [
      "The current balance for account number : 25832 is  5000.00 INR\n"
     ]
    }
   ],
   "source": [
    "j.checkbalance()"
   ]
  },
  {
   "cell_type": "code",
   "execution_count": 20,
   "id": "db2e6ad4",
   "metadata": {},
   "outputs": [],
   "source": [
    "j.withdrwal(1000)"
   ]
  },
  {
   "cell_type": "code",
   "execution_count": 21,
   "id": "ed9fa5b5",
   "metadata": {},
   "outputs": [
    {
     "name": "stdout",
     "output_type": "stream",
     "text": [
      "The current balance for account number : 25832 is  4000.00 INR\n"
     ]
    }
   ],
   "source": [
    "j.checkbalance()"
   ]
  },
  {
   "cell_type": "code",
   "execution_count": 22,
   "id": "947fb44f",
   "metadata": {},
   "outputs": [
    {
     "ename": "ValueError",
     "evalue": "The withdrawl amount cannot be negative",
     "output_type": "error",
     "traceback": [
      "\u001b[31m---------------------------------------------------------------------------\u001b[39m",
      "\u001b[31mValueError\u001b[39m                                Traceback (most recent call last)",
      "\u001b[36mCell\u001b[39m\u001b[36m \u001b[39m\u001b[32mIn[22]\u001b[39m\u001b[32m, line 1\u001b[39m\n\u001b[32m----> \u001b[39m\u001b[32m1\u001b[39m \u001b[43mj\u001b[49m\u001b[43m.\u001b[49m\u001b[43mwithdrwal\u001b[49m\u001b[43m(\u001b[49m\u001b[43m-\u001b[49m\u001b[32;43m200\u001b[39;49m\u001b[43m)\u001b[49m\n",
      "\u001b[36mCell\u001b[39m\u001b[36m \u001b[39m\u001b[32mIn[17]\u001b[39m\u001b[32m, line 19\u001b[39m, in \u001b[36mbank_account.withdrwal\u001b[39m\u001b[34m(self, amount)\u001b[39m\n\u001b[32m     17\u001b[39m \u001b[38;5;28;01mdef\u001b[39;00m\u001b[38;5;250m \u001b[39m\u001b[34mwithdrwal\u001b[39m(\u001b[38;5;28mself\u001b[39m, amount: \u001b[38;5;28mfloat\u001b[39m):\n\u001b[32m     18\u001b[39m     \u001b[38;5;28;01mif\u001b[39;00m amount <= \u001b[32m0\u001b[39m:\n\u001b[32m---> \u001b[39m\u001b[32m19\u001b[39m         \u001b[38;5;28;01mraise\u001b[39;00m \u001b[38;5;167;01mValueError\u001b[39;00m(\u001b[33mf\u001b[39m\u001b[33m\"\u001b[39m\u001b[33mThe withdrawl amount cannot be negative\u001b[39m\u001b[33m\"\u001b[39m)\n\u001b[32m     20\u001b[39m     \u001b[38;5;28;01mif\u001b[39;00m amount > \u001b[38;5;28mself\u001b[39m.balance:\n\u001b[32m     21\u001b[39m         \u001b[38;5;28;01mraise\u001b[39;00m \u001b[38;5;167;01mValueError\u001b[39;00m(\u001b[33mf\u001b[39m\u001b[33m\"\u001b[39m\u001b[33mThe withdrawl amount is insufficient\u001b[39m\u001b[33m\"\u001b[39m)\n",
      "\u001b[31mValueError\u001b[39m: The withdrawl amount cannot be negative"
     ]
    }
   ],
   "source": [
    "j.withdrwal(-200)"
   ]
  },
  {
   "cell_type": "code",
   "execution_count": null,
   "id": "770d4a36",
   "metadata": {},
   "outputs": [],
   "source": [
    "j.checkbalance()"
   ]
  },
  {
   "cell_type": "code",
   "execution_count": null,
   "id": "b5bfe63e",
   "metadata": {},
   "outputs": [],
   "source": [
    "j.withdrwal(300)\n",
    "j"
   ]
  },
  {
   "cell_type": "code",
   "execution_count": null,
   "id": "83132710",
   "metadata": {},
   "outputs": [],
   "source": [
    "j.checkbalance()"
   ]
  },
  {
   "cell_type": "code",
   "execution_count": null,
   "id": "91ee10cd",
   "metadata": {},
   "outputs": [],
   "source": [
    "j.deposit(2)\n",
    "j.checkbalance()"
   ]
  },
  {
   "cell_type": "code",
   "execution_count": null,
   "id": "1206c19a",
   "metadata": {},
   "outputs": [],
   "source": [
    "@dataclass\n",
    "class BankAccount:\n",
    "    ac_no: int\n",
    "    name: str\n",
    "    balance: float = 0.0\n",
    "\n",
    "    def check_balance(self):\n",
    "        print(\n",
    "            f\"For account number {self.ac_no} the current balance is {self.balance:.2f} INR\"\n",
    "        )\n",
    "\n",
    "    def deposit(self, amount: float):\n",
    "        if amount <= 0:\n",
    "            raise ValueError(\"Deposit Amount cannot be negative\")\n",
    "        self.balance += amount  # self.balance = self.balance + amount\n",
    "\n",
    "    def withdraw(self, amount: float):\n",
    "        if amount <= 0:\n",
    "            raise ValueError(\"Withdrawal Amount cannot be negative\")\n",
    "        if self.balance < amount:\n",
    "            raise ValueError(\"Insufficient Balance!\")\n",
    "        self.balance -= amount\n",
    "\n",
    "    def transfer(self, amount: float, ac2: \"BankAccount\"):\n",
    "        self.withdraw(amount)\n",
    "        ac2.deposit(amount)"
   ]
  },
  {
   "cell_type": "code",
   "execution_count": null,
   "id": "1bb3d588",
   "metadata": {},
   "outputs": [],
   "source": [
    "ac1 = BankAccount(ac_no=1234, name=\"Utkarsh\", balance=3000.0)\n",
    "ac1"
   ]
  },
  {
   "cell_type": "code",
   "execution_count": null,
   "id": "3fc260d3",
   "metadata": {},
   "outputs": [],
   "source": [
    "ac1.deposit(200)"
   ]
  },
  {
   "cell_type": "code",
   "execution_count": null,
   "id": "1b6a1dc1",
   "metadata": {},
   "outputs": [],
   "source": [
    "ac1.check_balance()"
   ]
  },
  {
   "cell_type": "code",
   "execution_count": null,
   "id": "b5492f89",
   "metadata": {},
   "outputs": [],
   "source": [
    "ac1.check_balance()"
   ]
  },
  {
   "cell_type": "code",
   "execution_count": null,
   "id": "d9008e37",
   "metadata": {},
   "outputs": [],
   "source": [
    "ac1.withdraw(200)\n",
    "ac1"
   ]
  },
  {
   "cell_type": "code",
   "execution_count": null,
   "id": "648d721a",
   "metadata": {},
   "outputs": [],
   "source": [
    "from dataclasses import dataclass\n",
    "from math import sqrt"
   ]
  },
  {
   "cell_type": "code",
   "execution_count": 23,
   "id": "4567cddc",
   "metadata": {},
   "outputs": [],
   "source": [
    "@dataclass\n",
    "class Triangle:\n",
    "    a: int | float\n",
    "    b: int | float\n",
    "    c: int | float\n",
    "\n",
    "    def __post_init__(self):\n",
    "        if self.a <= 0 or self.b <= 0 or self.c <= 0:\n",
    "            raise ValueError(\"The sides of traingle cannot be negative\")\n",
    "\n",
    "        if not self.is_triangle():\n",
    "            raise ValueError(\"Sum of two sides should be greater than third\")\n",
    "\n",
    "    def is_triangle(self) -> bool:\n",
    "        return (\n",
    "            (self.a + self.b > self.c)\n",
    "            and (self.b + self.c > self.a)\n",
    "            and (self.a + self.c > self.b)\n",
    "        )\n",
    "\n",
    "    def perimeter(self) -> int | float:\n",
    "        return self.a + self.b + self.c\n",
    "\n",
    "    def area(self) -> int | float:\n",
    "        s = self.perimeter() / 2\n",
    "        a = sqrt(s * (s - self.a) * (s - self.b) * (s - self.c))"
   ]
  },
  {
   "cell_type": "code",
   "execution_count": 24,
   "id": "b7ed7d67",
   "metadata": {},
   "outputs": [],
   "source": [
    "t = Triangle(25, 50, 61)"
   ]
  },
  {
   "cell_type": "code",
   "execution_count": 25,
   "id": "45a6bd7a",
   "metadata": {},
   "outputs": [
    {
     "data": {
      "text/plain": [
       "True"
      ]
     },
     "execution_count": 25,
     "metadata": {},
     "output_type": "execute_result"
    }
   ],
   "source": [
    "t.is_triangle()"
   ]
  },
  {
   "cell_type": "code",
   "execution_count": 26,
   "id": "886d614a",
   "metadata": {},
   "outputs": [
    {
     "data": {
      "text/plain": [
       "136"
      ]
     },
     "execution_count": 26,
     "metadata": {},
     "output_type": "execute_result"
    }
   ],
   "source": [
    "m = t.perimeter()\n",
    "m"
   ]
  },
  {
   "cell_type": "code",
   "execution_count": null,
   "id": "008f0656",
   "metadata": {},
   "outputs": [],
   "source": []
  }
 ],
 "metadata": {
  "kernelspec": {
   "display_name": "venv",
   "language": "python",
   "name": "python3"
  },
  "language_info": {
   "codemirror_mode": {
    "name": "ipython",
    "version": 3
   },
   "file_extension": ".py",
   "mimetype": "text/x-python",
   "name": "python",
   "nbconvert_exporter": "python",
   "pygments_lexer": "ipython3",
   "version": "3.13.2"
  }
 },
 "nbformat": 4,
 "nbformat_minor": 5
}
