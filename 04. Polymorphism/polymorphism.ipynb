{
 "cells": [
  {
   "cell_type": "markdown",
   "id": "86835bc8",
   "metadata": {},
   "source": [
    "# Polymorphism"
   ]
  },
  {
   "cell_type": "code",
   "execution_count": 1,
   "id": "122cddcd",
   "metadata": {},
   "outputs": [],
   "source": [
    "class Shruti:\n",
    "\n",
    "    def name(self):\n",
    "        print(\"My name is Shruti\")\n",
    "\n",
    "    def surname(self):\n",
    "        print(\"My surname is Jadhav\")"
   ]
  },
  {
   "cell_type": "code",
   "execution_count": 2,
   "id": "8e6529c5",
   "metadata": {},
   "outputs": [],
   "source": [
    "class Rushi:\n",
    "\n",
    "    def name(self):\n",
    "        print(\"My name is Rushikesh\")\n",
    "\n",
    "    def surname(self):\n",
    "        print(\"My surname is Jadhav\")"
   ]
  },
  {
   "cell_type": "code",
   "execution_count": 10,
   "id": "389bb24f",
   "metadata": {},
   "outputs": [],
   "source": [
    "c1 = Shruti()\n",
    "c2 = Rushi()"
   ]
  },
  {
   "cell_type": "code",
   "execution_count": 11,
   "id": "b395e6ba",
   "metadata": {},
   "outputs": [
    {
     "name": "stdout",
     "output_type": "stream",
     "text": [
      "My surname is Jadhav\n"
     ]
    }
   ],
   "source": [
    "c1.surname()"
   ]
  },
  {
   "cell_type": "code",
   "execution_count": 12,
   "id": "0a4d848c",
   "metadata": {},
   "outputs": [
    {
     "name": "stdout",
     "output_type": "stream",
     "text": [
      "My name is Rushikesh\n"
     ]
    }
   ],
   "source": [
    "c2.name()"
   ]
  },
  {
   "cell_type": "code",
   "execution_count": 13,
   "id": "2ab2ad32",
   "metadata": {},
   "outputs": [
    {
     "name": "stdout",
     "output_type": "stream",
     "text": [
      "<class '__main__.Shruti'>\n",
      "My name is Shruti\n",
      "My surname is Jadhav\n",
      "====================\n",
      "\n",
      "<class '__main__.Rushi'>\n",
      "My name is Rushikesh\n",
      "My surname is Jadhav\n",
      "====================\n",
      "\n"
     ]
    }
   ],
   "source": [
    "for Names in c1, c2:\n",
    "    print(type(Names))\n",
    "    Names.name()\n",
    "    Names.surname()\n",
    "    print(\"=\" * 20 + \"\\n\")"
   ]
  },
  {
   "cell_type": "code",
   "execution_count": 19,
   "id": "2ae5408e",
   "metadata": {},
   "outputs": [],
   "source": [
    "from dataclasses import dataclass"
   ]
  },
  {
   "cell_type": "markdown",
   "id": "efb063cb",
   "metadata": {},
   "source": [
    "# Shapes"
   ]
  },
  {
   "cell_type": "code",
   "execution_count": 20,
   "id": "faae73de",
   "metadata": {},
   "outputs": [],
   "source": [
    "@dataclass\n",
    "class Rectangle:\n",
    "    length: int | float\n",
    "    width: int | float\n",
    "\n",
    "    def perimeter(self):\n",
    "        return 2 * (self.length + self.width)\n",
    "\n",
    "    def area(self):\n",
    "        return length * width"
   ]
  },
  {
   "cell_type": "code",
   "execution_count": 24,
   "id": "75da510f",
   "metadata": {},
   "outputs": [],
   "source": [
    "class Square:\n",
    "    a: int | float\n",
    "\n",
    "    def perimeter(self):\n",
    "        return 4 * (a)\n",
    "\n",
    "    def area(self):\n",
    "        return a * a"
   ]
  },
  {
   "cell_type": "code",
   "execution_count": 31,
   "id": "2572b33b",
   "metadata": {},
   "outputs": [
    {
     "ename": "TypeError",
     "evalue": "Square() takes no arguments",
     "output_type": "error",
     "traceback": [
      "\u001b[31m---------------------------------------------------------------------------\u001b[39m",
      "\u001b[31mTypeError\u001b[39m                                 Traceback (most recent call last)",
      "\u001b[36mCell\u001b[39m\u001b[36m \u001b[39m\u001b[32mIn[31]\u001b[39m\u001b[32m, line 1\u001b[39m\n\u001b[32m----> \u001b[39m\u001b[32m1\u001b[39m shape = (Rectangle(\u001b[32m50\u001b[39m, \u001b[32m20\u001b[39m), \u001b[43mSquare\u001b[49m\u001b[43m(\u001b[49m\u001b[32;43m2\u001b[39;49m\u001b[43m)\u001b[49m)\n",
      "\u001b[31mTypeError\u001b[39m: Square() takes no arguments"
     ]
    }
   ],
   "source": [
    "shape = (Rectangle(50, 20), Square(2))"
   ]
  },
  {
   "cell_type": "code",
   "execution_count": null,
   "id": "e2b14ccb",
   "metadata": {},
   "outputs": [],
   "source": []
  }
 ],
 "metadata": {
  "kernelspec": {
   "display_name": "venv",
   "language": "python",
   "name": "python3"
  },
  "language_info": {
   "codemirror_mode": {
    "name": "ipython",
    "version": 3
   },
   "file_extension": ".py",
   "mimetype": "text/x-python",
   "name": "python",
   "nbconvert_exporter": "python",
   "pygments_lexer": "ipython3",
   "version": "3.13.2"
  }
 },
 "nbformat": 4,
 "nbformat_minor": 5
}
